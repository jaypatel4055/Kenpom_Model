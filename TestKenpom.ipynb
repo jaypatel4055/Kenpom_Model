{
 "cells": [
  {
   "cell_type": "code",
   "execution_count": 1,
   "metadata": {},
   "outputs": [],
   "source": [
    "import pandas as pd\n",
    "import numpy as np\n",
    "from kenpompy.utils import login\n",
    "import kenpompy.summary as kp"
   ]
  },
  {
   "cell_type": "markdown",
   "metadata": {},
   "source": [
    "# kenpompy recources : https://kenpompy.readthedocs.io/en/latest/"
   ]
  },
  {
   "cell_type": "markdown",
   "metadata": {},
   "source": [
    "# Init Connection to Kenpom"
   ]
  },
  {
   "cell_type": "code",
   "execution_count": 7,
   "metadata": {},
   "outputs": [],
   "source": [
    "email = 'jordan.e.coppess@gmail.com'\n",
    "pwd = 'kenpom23'"
   ]
  },
  {
   "cell_type": "code",
   "execution_count": 8,
   "metadata": {},
   "outputs": [],
   "source": [
    "# Returns an authenticated browser that can then be used to scrape pages that require authorization.\n",
    "browser = login(email, pwd)"
   ]
  },
  {
   "cell_type": "code",
   "execution_count": 15,
   "metadata": {},
   "outputs": [],
   "source": [
    "# Returns a pandas dataframe containing the efficiency and tempo stats for the current season (https://kenpom.com/summary.php).\n",
    "eff_stats = kp.get_efficiency(browser)"
   ]
  },
  {
   "cell_type": "code",
   "execution_count": 18,
   "metadata": {},
   "outputs": [
    {
     "data": {
      "text/html": [
       "<div>\n",
       "<style scoped>\n",
       "    .dataframe tbody tr th:only-of-type {\n",
       "        vertical-align: middle;\n",
       "    }\n",
       "\n",
       "    .dataframe tbody tr th {\n",
       "        vertical-align: top;\n",
       "    }\n",
       "\n",
       "    .dataframe thead th {\n",
       "        text-align: right;\n",
       "    }\n",
       "</style>\n",
       "<table border=\"1\" class=\"dataframe\">\n",
       "  <thead>\n",
       "    <tr style=\"text-align: right;\">\n",
       "      <th></th>\n",
       "      <th>Team</th>\n",
       "      <th>Conference</th>\n",
       "      <th>Tempo-Adj</th>\n",
       "      <th>Tempo-Adj.Rank</th>\n",
       "      <th>Tempo-Raw</th>\n",
       "      <th>Tempo-Raw.Rank</th>\n",
       "      <th>Avg. Poss Length-Offense</th>\n",
       "      <th>Avg. Poss Length-Offense.Rank</th>\n",
       "      <th>Avg. Poss Length-Defense</th>\n",
       "      <th>Avg. Poss Length-Defense.Rank</th>\n",
       "      <th>Off. Efficiency-Adj</th>\n",
       "      <th>Off. Efficiency-Adj.Rank</th>\n",
       "      <th>Off. Efficiency-Raw</th>\n",
       "      <th>Off. Efficiency-Raw.Rank</th>\n",
       "      <th>Def. Efficiency-Adj</th>\n",
       "      <th>Def. Efficiency-Adj.Rank</th>\n",
       "      <th>Def. Efficiency-Raw</th>\n",
       "      <th>Def. Efficiency-Raw.Rank</th>\n",
       "    </tr>\n",
       "  </thead>\n",
       "  <tbody>\n",
       "    <tr>\n",
       "      <th>371</th>\n",
       "      <td>Texas</td>\n",
       "      <td>B12</td>\n",
       "      <td>61.3</td>\n",
       "      <td>356</td>\n",
       "      <td>63.8</td>\n",
       "      <td>344</td>\n",
       "      <td>18.4</td>\n",
       "      <td>287</td>\n",
       "      <td>18.9</td>\n",
       "      <td>354</td>\n",
       "      <td>110.0</td>\n",
       "      <td>30</td>\n",
       "      <td>112.3</td>\n",
       "      <td>24</td>\n",
       "      <td>89.3</td>\n",
       "      <td>12</td>\n",
       "      <td>83.2</td>\n",
       "      <td>4</td>\n",
       "    </tr>\n",
       "  </tbody>\n",
       "</table>\n",
       "</div>"
      ],
      "text/plain": [
       "      Team Conference Tempo-Adj Tempo-Adj.Rank Tempo-Raw Tempo-Raw.Rank  \\\n",
       "371  Texas        B12      61.3            356      63.8            344   \n",
       "\n",
       "    Avg. Poss Length-Offense Avg. Poss Length-Offense.Rank  \\\n",
       "371                     18.4                           287   \n",
       "\n",
       "    Avg. Poss Length-Defense Avg. Poss Length-Defense.Rank  \\\n",
       "371                     18.9                           354   \n",
       "\n",
       "    Off. Efficiency-Adj Off. Efficiency-Adj.Rank Off. Efficiency-Raw  \\\n",
       "371               110.0                       30               112.3   \n",
       "\n",
       "    Off. Efficiency-Raw.Rank Def. Efficiency-Adj Def. Efficiency-Adj.Rank  \\\n",
       "371                       24                89.3                       12   \n",
       "\n",
       "    Def. Efficiency-Raw Def. Efficiency-Raw.Rank  \n",
       "371                83.2                        4  "
      ]
     },
     "execution_count": 18,
     "metadata": {},
     "output_type": "execute_result"
    }
   ],
   "source": [
    "eff_stats[eff_stats['Team']=='Texas']"
   ]
  },
  {
   "cell_type": "code",
   "execution_count": null,
   "metadata": {},
   "outputs": [],
   "source": []
  },
  {
   "cell_type": "code",
   "execution_count": null,
   "metadata": {},
   "outputs": [],
   "source": []
  }
 ],
 "metadata": {
  "kernelspec": {
   "display_name": "Python 3",
   "language": "python",
   "name": "python3"
  },
  "language_info": {
   "codemirror_mode": {
    "name": "ipython",
    "version": 3
   },
   "file_extension": ".py",
   "mimetype": "text/x-python",
   "name": "python",
   "nbconvert_exporter": "python",
   "pygments_lexer": "ipython3",
   "version": "3.7.6"
  }
 },
 "nbformat": 4,
 "nbformat_minor": 4
}
